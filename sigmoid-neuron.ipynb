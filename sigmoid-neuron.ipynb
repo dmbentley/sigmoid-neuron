{
 "cells": [
  {
   "cell_type": "markdown",
   "metadata": {
    "deletable": true,
    "editable": true
   },
   "source": [
    "# Modelling a Sigmoid Neuron\n",
    "\n",
    "## Non-technical explanation\n",
    "\n",
    "Inside the human brain is a neural network composed of around 100 billion neurons. In this neural network, each neuron is connected to many other neurons. \n",
    "\n",
    "In this notebook, we look at modelling an artificial neuron. We will create a neuron that can accept any number of input voltages and then determine what its output voltage will be. We will create a certain type of neuron called a **sigmoid neuron** because it uses a **sigmoid function** to determine what its output will be based upon the inputs it receives. \n",
    "\n",
    "We will create our neuron so that it has **weights** and a **bias**. Each of the inputs coming into our neuron will receive a weight that represents its individual importance in getting the neuron to fire. The bias of the neuron will be a measure of how easy the neuron wants to fire in general. If the bias is high, the neuron will fire easy. If it is low, then the neuron will be biased towards not firing. \n",
    "\n",
    "\n",
    "## Technical explanation\n",
    "\n",
    "### Creating the Neuron class\n",
    "\n",
    "\n",
    "\n",
    "Define the sigmoid function, $\\sigma(z)$, that is pivotal in creating a sigmoid neuron.\n",
    "\n",
    "$ \\sigma(z) = \\frac{1}{1+e^{-z}} $"
   ]
  },
  {
   "cell_type": "code",
   "execution_count": 1,
   "metadata": {
    "collapsed": true,
    "deletable": true,
    "editable": true
   },
   "outputs": [],
   "source": [
    "import numpy as np\n",
    "\n",
    "def sigmoid(z):\n",
    "    \n",
    "    return 1/(1+np.exp(-z))"
   ]
  },
  {
   "cell_type": "markdown",
   "metadata": {
    "deletable": true,
    "editable": true
   },
   "source": [
    "Create a ```class``` that is initialised with a list ```weights``` and a single integer ```bias```."
   ]
  },
  {
   "cell_type": "code",
   "execution_count": 2,
   "metadata": {
    "collapsed": false,
    "deletable": true,
    "editable": true
   },
   "outputs": [],
   "source": [
    "class Neuron:\n",
    "    \n",
    "    def __init__(self, weights, bias):\n",
    "        \n",
    "        self.weights = weights\n",
    "        self.bias = bias"
   ]
  },
  {
   "cell_type": "markdown",
   "metadata": {
    "deletable": true,
    "editable": true
   },
   "source": [
    "Add a class method called ```output``` to the ```Neuron``` class. The output class method will determine what the output of the neuron will be given by the formula:\n",
    "\n",
    "$output = \\sigma (weights \\cdot input + bias)$"
   ]
  },
  {
   "cell_type": "code",
   "execution_count": 3,
   "metadata": {
    "collapsed": false,
    "deletable": true,
    "editable": true
   },
   "outputs": [],
   "source": [
    "def output(self, input):\n",
    "        \n",
    "    z = np.dot(self.weights, input) + self.bias\n",
    "        \n",
    "    return sigmoid(z) \n",
    "\n",
    "# Add the function output to the Neuron class.\n",
    "Neuron.output = output \n",
    "\n"
   ]
  },
  {
   "cell_type": "markdown",
   "metadata": {
    "deletable": true,
    "editable": true
   },
   "source": [
    "We have built a generic artificial neuron. Let's now create a sample neuron called ```a``` and test it. We will create a neuron with two inputs $x_1$ and $x_2$. We will give each of these two inputs  a weight and define a bias for the neuron overall. "
   ]
  },
  {
   "cell_type": "code",
   "execution_count": 4,
   "metadata": {
    "collapsed": true,
    "deletable": true,
    "editable": true
   },
   "outputs": [],
   "source": [
    "x1_weight = 1\n",
    "x2_weight = -2\n",
    "bias = -1\n",
    "\n",
    "a = Neuron(weights = [x1_weight, x2_weight], \n",
    "           bias = bias)\n"
   ]
  },
  {
   "cell_type": "markdown",
   "metadata": {
    "deletable": true,
    "editable": true
   },
   "source": [
    "Let's give our neuron two inputs and see what output it provides. "
   ]
  },
  {
   "cell_type": "code",
   "execution_count": 5,
   "metadata": {
    "collapsed": false,
    "deletable": true,
    "editable": true
   },
   "outputs": [
    {
     "data": {
      "text/plain": [
       "0.11920292202211755"
      ]
     },
     "execution_count": 5,
     "metadata": {},
     "output_type": "execute_result"
    }
   ],
   "source": [
    "x1_input = 1\n",
    "x2_input = 1\n",
    "\n",
    "a.output(input=[x1_input,x2_input])"
   ]
  },
  {
   "cell_type": "markdown",
   "metadata": {
    "deletable": true,
    "editable": true
   },
   "source": [
    "### Creating a graph of neuron output versus bias\n",
    "\n",
    "We aim to create a graph that shows how the bias affects a neuron's output. We will use the previous neuron, ```a```, we created and keep its inputs and weights the same, but vary the bias of the neuron. \n",
    "\n",
    "In an effort to do this, we create a list ```biases``` that will be biases that we will sample from."
   ]
  },
  {
   "cell_type": "code",
   "execution_count": 6,
   "metadata": {
    "collapsed": false,
    "deletable": true,
    "editable": true
   },
   "outputs": [],
   "source": [
    "biases = np.linspace(-6, 6, 100)"
   ]
  },
  {
   "cell_type": "markdown",
   "metadata": {
    "deletable": true,
    "editable": true
   },
   "source": [
    "We create an empty list `output` and populate it with the outputs of the neuron for each of the biases on our `biases` list. "
   ]
  },
  {
   "cell_type": "code",
   "execution_count": 7,
   "metadata": {
    "collapsed": false,
    "deletable": true,
    "editable": true
   },
   "outputs": [],
   "source": [
    "outputs = []\n",
    "for b in biases:\n",
    "    a.bias = b\n",
    "    outputs.append(a.output(input=[x1_input, x2_input]))\n",
    "    "
   ]
  },
  {
   "cell_type": "markdown",
   "metadata": {
    "deletable": true,
    "editable": true
   },
   "source": [
    "We use the python library `matplotlib` to plot the elements in the `biases` list with the elements in the `outputs` list."
   ]
  },
  {
   "cell_type": "code",
   "execution_count": 8,
   "metadata": {
    "collapsed": false,
    "deletable": true,
    "editable": true
   },
   "outputs": [
    {
     "data": {
      "image/png": "[encoded data removed]",
      "text/plain": [
       "<matplotlib.figure.Figure at 0x7fe49ccb4590>"
      ]
     },
     "metadata": {},
     "output_type": "display_data"
    }
   ],
   "source": [
    "import matplotlib.pyplot as plt\n",
    "\n",
    "plt.plot(biases, outputs)\n",
    "plt.title('How the bias affects a neuron\\'s output \\n', fontsize=15, fontweight= 'bold')\n",
    "                  \n",
    "          \n",
    "plt.xlabel('Bias', fontsize=13)\n",
    "plt.ylabel('Neuron Output', fontsize=13)\n",
    "\n",
    "caption = 'The figure above shows a plot of a sigmoid neuron\\'s output versus\\nits bias. Both the weights and inputs of the neuron are held constant.\\nThe $x_1$ input is %s, the $x_2$ input is %s, the $x_1$ weight is %s and the $x_2$ weight\\nis %s.' %(x1_input, x2_input, x1_weight, x2_weight)\n",
    "plt.figtext(0, -0.3, caption, fontsize=13) \n",
    "\n",
    "\n",
    "plt.show()\n",
    "plt.close()"
   ]
  },
  {
   "cell_type": "markdown",
   "metadata": {
    "deletable": true,
    "editable": true
   },
   "source": [
    "### Creating a heatmap of neuron output \n",
    "\n",
    "Let's now create a neuron called `a` that has a bias, two inputs and two weights."
   ]
  },
  {
   "cell_type": "code",
   "execution_count": 9,
   "metadata": {
    "collapsed": false,
    "deletable": true,
    "editable": true
   },
   "outputs": [],
   "source": [
    "x1_weight = 1\n",
    "x2_weight = -2\n",
    "bias = 0\n",
    "\n",
    "a = Neuron(weights = [x1_weight, x2_weight], \n",
    "           bias = bias)"
   ]
  },
  {
   "cell_type": "markdown",
   "metadata": {
    "deletable": true,
    "editable": true
   },
   "source": [
    "We create two lists `x1_inputs` and `x2_inputs` that represent the inputs we will sample for the neuron."
   ]
  },
  {
   "cell_type": "code",
   "execution_count": 10,
   "metadata": {
    "collapsed": false,
    "deletable": true,
    "editable": true
   },
   "outputs": [],
   "source": [
    "x1_inputs = np.linspace(0,5,100)\n",
    "x2_inputs = np.linspace(0,5,100)"
   ]
  },
  {
   "cell_type": "markdown",
   "metadata": {
    "deletable": true,
    "editable": true
   },
   "source": [
    "We initialise an array `Z` whose elements will contain the outputs for each of the inputs."
   ]
  },
  {
   "cell_type": "code",
   "execution_count": 11,
   "metadata": {
    "collapsed": false,
    "deletable": true,
    "editable": true
   },
   "outputs": [],
   "source": [
    "X, Y = np.meshgrid(x1_inputs, x2_inputs)\n",
    "Z = np.zeros((x1_inputs.size, x2_inputs.size))"
   ]
  },
  {
   "cell_type": "markdown",
   "metadata": {
    "deletable": true,
    "editable": true
   },
   "source": [
    "We now populate the array `Z` with the relevant outputs of the neuron."
   ]
  },
  {
   "cell_type": "code",
   "execution_count": 12,
   "metadata": {
    "collapsed": true,
    "deletable": true,
    "editable": true
   },
   "outputs": [],
   "source": [
    "for i in range(x1_inputs.size):\n",
    "    for j in range(x2_inputs.size):\n",
    "        Z[i,j] = a.output(input=[X[i,j],Y[i,j]])"
   ]
  },
  {
   "cell_type": "markdown",
   "metadata": {
    "deletable": true,
    "editable": true
   },
   "source": [
    "We use the `pcolor` function of `matplotlib` to create a heat map. "
   ]
  },
  {
   "cell_type": "code",
   "execution_count": 13,
   "metadata": {
    "collapsed": false,
    "deletable": true,
    "editable": true
   },
   "outputs": [
    {
     "data": {
      "image/png": "[encoded data removed]",
      "text/plain": [
       "<matplotlib.figure.Figure at 0x7fe497c93790>"
      ]
     },
     "metadata": {},
     "output_type": "display_data"
    }
   ],
   "source": [
    "plt.pcolor(X, Y, Z, cmap='Reds')\n",
    "plt.colorbar()\n",
    "\n",
    "plt.title('Output of a Sigmoid Neuron \\n', fontsize=15, fontweight='bold')\n",
    "plt.xlabel('$x_1$ input into neuron', fontsize=13)          \n",
    "plt.ylabel('$x_2$ input into neuron', fontsize=13)\n",
    "           \n",
    "caption = 'The figure above shows the output of a sigmoid neuron\\nwith bias of %s, an $x_1$ weight of %s and an $x_2$ weight of %s.' %(bias, x1_weight, x2_weight)\n",
    "plt.figtext(0, -0.2, caption, fontsize=13)\n",
    "\n",
    "plt.show()\n",
    "plt.close()"
   ]
  }
 ],
 "metadata": {
  "kernelspec": {
   "display_name": "Python 2",
   "language": "python",
   "name": "python2"
  },
  "language_info": {
   "codemirror_mode": {
    "name": "ipython",
    "version": 2
   },
   "file_extension": ".py",
   "mimetype": "text/x-python",
   "name": "python",
   "nbconvert_exporter": "python",
   "pygments_lexer": "ipython2",
   "version": "2.7.12"
  }
 },
 "nbformat": 4,
 "nbformat_minor": 2
}
